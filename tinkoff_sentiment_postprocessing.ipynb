{
 "cells": [
  {
   "cell_type": "code",
   "id": "initial_id",
   "metadata": {
    "collapsed": true,
    "ExecuteTime": {
     "end_time": "2024-05-08T10:10:36.496966Z",
     "start_time": "2024-05-08T10:10:36.490292Z"
    }
   },
   "source": "import pandas as pd",
   "outputs": [],
   "execution_count": 26
  },
  {
   "metadata": {
    "ExecuteTime": {
     "end_time": "2024-05-08T10:10:36.571879Z",
     "start_time": "2024-05-08T10:10:36.506992Z"
    }
   },
   "cell_type": "code",
   "source": "df_labeled = pd.read_csv(\"data/comments_tiny_labeled.csv\")",
   "id": "ab45834ff07cbfd8",
   "outputs": [],
   "execution_count": 27
  },
  {
   "metadata": {
    "ExecuteTime": {
     "end_time": "2024-05-08T10:10:36.579502Z",
     "start_time": "2024-05-08T10:10:36.573475Z"
    }
   },
   "cell_type": "code",
   "source": "df_labeled.target.value_counts()",
   "id": "66a72cf4469c8d23",
   "outputs": [
    {
     "data": {
      "text/plain": [
       "target\n",
       "Neutral                                                                                                                                                                                               3130\n",
       "Negative                                                                                                                                                                                              2055\n",
       "Positive                                                                                                                                                                                              1627\n",
       "Negative.                                                                                                                                                                                               23\n",
       "Positive.                                                                                                                                                                                               22\n",
       "Neutral.                                                                                                                                                                                                 5\n",
       "neutral                                                                                                                                                                                                  3\n",
       "Neutral and Negative                                                                                                                                                                                     1\n",
       "Mixed (negative and positive)                                                                                                                                                                            1\n",
       "Positive (Gratitude towards people who manage to get enough sleep despite being extremely busy) \\nNegative (expressing dissatisfaction with not being able to get enough sleep despite being busy)       1\n",
       "Mixed sentiment. Some negative (конкрары кошмары, спорил безуспешно) and some positive (сын собирается учиться в Москве) aspects.                                                                        1\n",
       "Negative sentiment                                                                                                                                                                                       1\n",
       "Mixed (Neutral/Positive)                                                                                                                                                                                 1\n",
       "Mixed\\nNeutral: \"Вы зачем лысую зимнюю покрышку на главное фото поставили?!\" \\nPositive: \"Доверие к статье сразу зашкаливает\"                                                                            1\n",
       " neutral                                                                                                                                                                                                 1\n",
       "Mixed/Neutral                                                                                                                                                                                            1\n",
       "Positive sentiment                                                                                                                                                                                       1\n",
       "Positive (The house and surroundings are described as beautiful) \\nNegative (The Modigliani museum toilet is described as tasteless)                                                                     1\n",
       "Positive, Negative, Neutral                                                                                                                                                                              1\n",
       "Positive, Negative                                                                                                                                                                                       1\n",
       "Positive (The touchpad is cool, screen is great, assembly is great) and Negative (comma placement in Russian layout is a crime against humanity, some aspects were extremely inconvenient)               1\n",
       "Neutral, positive, negative                                                                                                                                                                              1\n",
       "Neutral (mixed)                                                                                                                                                                                          1\n",
       "Mixed - Neutral and Positive                                                                                                                                                                             1\n",
       "The sentiment in the text is neutral.                                                                                                                                                                    1\n",
       "Positive (The first sentence is positive, complimenting someone, while the second sentence is negative discussing the lack of prospects in education and medicine)                                       1\n",
       "Positive                                                                                                                                                                                                 1\n",
       "Mixed (negative and neutral)                                                                                                                                                                             1\n",
       "Name: count, dtype: int64"
      ]
     },
     "execution_count": 28,
     "metadata": {},
     "output_type": "execute_result"
    }
   ],
   "execution_count": 28
  },
  {
   "metadata": {
    "ExecuteTime": {
     "end_time": "2024-05-08T10:10:36.610485Z",
     "start_time": "2024-05-08T10:10:36.580818Z"
    }
   },
   "cell_type": "code",
   "source": [
    "label_dict = {\n",
    "    \"positive\": 1,\n",
    "    \"negative\": -1,\n",
    "    \"neutral\": 0,  # neutral is checked last\n",
    "}\n",
    "\n",
    "def mapper(old_label: str) -> int:\n",
    "    old_label = old_label.lower()\n",
    "    for key, value in label_dict.items():\n",
    "        if key in old_label:\n",
    "            return value\n",
    "    raise ValueError()\n",
    "\n",
    "int_target = df_labeled.target.map(mapper)\n",
    "int_target.value_counts()"
   ],
   "id": "d79e085990d9049e",
   "outputs": [
    {
     "data": {
      "text/plain": [
       "target\n",
       " 0    3142\n",
       "-1    2081\n",
       " 1    1663\n",
       "Name: count, dtype: int64"
      ]
     },
     "execution_count": 29,
     "metadata": {},
     "output_type": "execute_result"
    }
   ],
   "execution_count": 29
  },
  {
   "metadata": {
    "ExecuteTime": {
     "end_time": "2024-05-08T10:10:36.639428Z",
     "start_time": "2024-05-08T10:10:36.611936Z"
    }
   },
   "cell_type": "code",
   "source": [
    "df_labeled.target = int_target\n",
    "df_labeled.info()"
   ],
   "id": "ad9435b67a8c5627",
   "outputs": [
    {
     "name": "stdout",
     "output_type": "stream",
     "text": [
      "<class 'pandas.core.frame.DataFrame'>\n",
      "RangeIndex: 6886 entries, 0 to 6885\n",
      "Data columns (total 2 columns):\n",
      " #   Column  Non-Null Count  Dtype \n",
      "---  ------  --------------  ----- \n",
      " 0   text    6886 non-null   object\n",
      " 1   target  6886 non-null   int64 \n",
      "dtypes: int64(1), object(1)\n",
      "memory usage: 107.7+ KB\n"
     ]
    }
   ],
   "execution_count": 30
  },
  {
   "metadata": {
    "ExecuteTime": {
     "end_time": "2024-05-08T10:10:36.707005Z",
     "start_time": "2024-05-08T10:10:36.640823Z"
    }
   },
   "cell_type": "code",
   "source": "labeled_df.to_csv(\"data/comments_tiny_labeled_int.csv\", index=False)",
   "id": "12e7e57dbd382c3b",
   "outputs": [],
   "execution_count": 31
  }
 ],
 "metadata": {
  "kernelspec": {
   "display_name": "Python 3",
   "language": "python",
   "name": "python3"
  },
  "language_info": {
   "codemirror_mode": {
    "name": "ipython",
    "version": 2
   },
   "file_extension": ".py",
   "mimetype": "text/x-python",
   "name": "python",
   "nbconvert_exporter": "python",
   "pygments_lexer": "ipython2",
   "version": "2.7.6"
  }
 },
 "nbformat": 4,
 "nbformat_minor": 5
}
