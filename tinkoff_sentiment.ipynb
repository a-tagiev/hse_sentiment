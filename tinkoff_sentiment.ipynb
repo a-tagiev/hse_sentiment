{
 "cells": [
  {
   "cell_type": "code",
   "id": "805e3a841807f63b",
   "metadata": {
    "collapsed": true,
    "ExecuteTime": {
     "end_time": "2024-05-07T14:48:35.154974Z",
     "start_time": "2024-05-07T14:48:35.151926Z"
    }
   },
   "source": [
    "# with open(\"comments.json\", \"r\") as file:\n",
    "#     doubled = file.read()\n",
    "#     initial = doubled[:len(doubled) // 2]\n",
    "# \n",
    "# with open(\"comments_fixed.json\", \"w\") as file:\n",
    "#     file.write(initial.replace(\"\\xa0\", \" \").replace(\"­\", \"\").replace(\"​\", \"\"))"
   ],
   "outputs": [],
   "execution_count": 1
  },
  {
   "metadata": {
    "ExecuteTime": {
     "end_time": "2024-05-07T14:48:35.688692Z",
     "start_time": "2024-05-07T14:48:35.156714Z"
    }
   },
   "cell_type": "code",
   "source": [
    "import pandas as pd\n",
    "import matplotlib.pyplot as plt"
   ],
   "id": "initial_id",
   "outputs": [],
   "execution_count": 2
  },
  {
   "metadata": {
    "ExecuteTime": {
     "end_time": "2024-05-07T14:48:57.978484Z",
     "start_time": "2024-05-07T14:48:35.689723Z"
    }
   },
   "cell_type": "code",
   "source": "df = pd.read_json(\"data/comments_fixed.json\").set_index(\"id\")",
   "id": "b1af0e15f4bd1a62",
   "outputs": [],
   "execution_count": 3
  },
  {
   "metadata": {
    "ExecuteTime": {
     "end_time": "2024-05-07T14:48:59.839444Z",
     "start_time": "2024-05-07T14:48:57.979492Z"
    }
   },
   "cell_type": "code",
   "source": [
    "df = df[[\"text\", \"level\"]]\n",
    "df = df[df[\"level\"] < 5]\n",
    "df = df.drop_duplicates()"
   ],
   "id": "272f830ed94cd22f",
   "outputs": [],
   "execution_count": 4
  },
  {
   "metadata": {
    "ExecuteTime": {
     "end_time": "2024-05-07T14:48:59.864617Z",
     "start_time": "2024-05-07T14:48:59.843764Z"
    }
   },
   "cell_type": "code",
   "source": [
    "print(df.shape)\n",
    "df[\"level\"].value_counts()"
   ],
   "id": "77f99452af513370",
   "outputs": [
    {
     "name": "stdout",
     "output_type": "stream",
     "text": [
      "(496132, 2)\n"
     ]
    },
    {
     "data": {
      "text/plain": [
       "level\n",
       "0    226958\n",
       "1    139401\n",
       "2     66634\n",
       "3     39708\n",
       "4     23431\n",
       "Name: count, dtype: int64"
      ]
     },
     "execution_count": 5,
     "metadata": {},
     "output_type": "execute_result"
    }
   ],
   "execution_count": 5
  },
  {
   "metadata": {
    "ExecuteTime": {
     "end_time": "2024-05-07T14:49:02.053032Z",
     "start_time": "2024-05-07T14:48:59.866565Z"
    }
   },
   "cell_type": "code",
   "source": [
    "word_count = df[\"text\"].map(lambda text: len(text.split()))\n",
    "plt.hist(word_count[word_count < 300], bins=100)"
   ],
   "id": "7efb97a5a596d9c0",
   "outputs": [
    {
     "data": {
      "text/plain": [
       "(array([14979., 38515., 43951., 41689., 36714., 32163., 27728., 24614.,\n",
       "        21719., 19222., 16602., 14916., 13326., 11932., 10681.,  9487.,\n",
       "         8765.,  7859.,  7121.,  6628.,  6000.,  5437.,  5061.,  4640.,\n",
       "         4109.,  3873.,  3487.,  3328.,  3017.,  2778.,  2697.,  2510.,\n",
       "         2325.,  2102.,  2013.,  1812.,  1654.,  1647.,  1476.,  1435.,\n",
       "         1303.,  1197.,  1123.,  1068.,  1009.,   950.,   905.,   846.,\n",
       "          797.,   791.,   692.,   686.,   604.,   592.,   646.,   519.,\n",
       "          499.,   485.,   497.,   444.,   409.,   410.,   363.,   367.,\n",
       "          325.,   312.,   292.,   296.,   298.,   252.,   256.,   243.,\n",
       "          236.,   247.,   210.,   179.,   170.,   178.,   176.,   168.,\n",
       "          163.,   136.,   147.,   150.,   151.,   107.,   125.,   121.,\n",
       "          114.,   110.,   105.,   126.,   109.,   112.,    96.,    93.,\n",
       "           83.,    89.,    86.,    98.]),\n",
       " array([  0.  ,   2.99,   5.98,   8.97,  11.96,  14.95,  17.94,  20.93,\n",
       "         23.92,  26.91,  29.9 ,  32.89,  35.88,  38.87,  41.86,  44.85,\n",
       "         47.84,  50.83,  53.82,  56.81,  59.8 ,  62.79,  65.78,  68.77,\n",
       "         71.76,  74.75,  77.74,  80.73,  83.72,  86.71,  89.7 ,  92.69,\n",
       "         95.68,  98.67, 101.66, 104.65, 107.64, 110.63, 113.62, 116.61,\n",
       "        119.6 , 122.59, 125.58, 128.57, 131.56, 134.55, 137.54, 140.53,\n",
       "        143.52, 146.51, 149.5 , 152.49, 155.48, 158.47, 161.46, 164.45,\n",
       "        167.44, 170.43, 173.42, 176.41, 179.4 , 182.39, 185.38, 188.37,\n",
       "        191.36, 194.35, 197.34, 200.33, 203.32, 206.31, 209.3 , 212.29,\n",
       "        215.28, 218.27, 221.26, 224.25, 227.24, 230.23, 233.22, 236.21,\n",
       "        239.2 , 242.19, 245.18, 248.17, 251.16, 254.15, 257.14, 260.13,\n",
       "        263.12, 266.11, 269.1 , 272.09, 275.08, 278.07, 281.06, 284.05,\n",
       "        287.04, 290.03, 293.02, 296.01, 299.  ]),\n",
       " <BarContainer object of 100 artists>)"
      ]
     },
     "execution_count": 6,
     "metadata": {},
     "output_type": "execute_result"
    },
    {
     "data": {
      "text/plain": [
       "<Figure size 640x480 with 1 Axes>"
      ],
      "image/png": "[encoded data removed]"
     },
     "metadata": {},
     "output_type": "display_data"
    }
   ],
   "execution_count": 6
  },
  {
   "metadata": {
    "ExecuteTime": {
     "end_time": "2024-05-07T14:49:02.153934Z",
     "start_time": "2024-05-07T14:49:02.054634Z"
    }
   },
   "cell_type": "code",
   "source": "df = df[(word_count > 10) & (word_count < 50)]",
   "id": "f268605a9fa9613f",
   "outputs": [],
   "execution_count": 7
  },
  {
   "metadata": {
    "ExecuteTime": {
     "end_time": "2024-05-07T14:49:03.688851Z",
     "start_time": "2024-05-07T14:49:02.155605Z"
    }
   },
   "cell_type": "code",
   "source": "df.to_csv(\"data/comments.csv\")",
   "id": "7b28c5c96a0c762",
   "outputs": [],
   "execution_count": 8
  },
  {
   "metadata": {
    "ExecuteTime": {
     "end_time": "2024-05-07T14:49:04.409100Z",
     "start_time": "2024-05-07T14:49:03.690148Z"
    }
   },
   "cell_type": "code",
   "source": [
    "only_level_0 = df[df[\"level\"] == 0]\n",
    "only_level_0.sample(100_000).to_csv(\"data/comments_small.csv\")\n",
    "only_level_0.sample(10_000).to_csv(\"data/comments_tiny.csv\")"
   ],
   "id": "afef7b014d8485ab",
   "outputs": [],
   "execution_count": 9
  },
  {
   "metadata": {
    "ExecuteTime": {
     "end_time": "2024-05-07T14:49:04.492146Z",
     "start_time": "2024-05-07T14:49:04.410487Z"
    }
   },
   "cell_type": "code",
   "source": [
    "tiny_df = pd.read_csv(\"data/comments_tiny.csv\")\n",
    "print(tiny_df[\"text\"].map(len).sum())\n",
    "print(tiny_df[\"text\"].map(lambda text: len(text.split())).sum())"
   ],
   "id": "486211783b93b153",
   "outputs": [
    {
     "name": "stdout",
     "output_type": "stream",
     "text": [
      "1619279\n",
      "255803\n"
     ]
    }
   ],
   "execution_count": 10
  }
 ],
 "metadata": {
  "kernelspec": {
   "display_name": "Python 3",
   "language": "python",
   "name": "python3"
  },
  "language_info": {
   "codemirror_mode": {
    "name": "ipython",
    "version": 2
   },
   "file_extension": ".py",
   "mimetype": "text/x-python",
   "name": "python",
   "nbconvert_exporter": "python",
   "pygments_lexer": "ipython2",
   "version": "2.7.6"
  }
 },
 "nbformat": 4,
 "nbformat_minor": 5
}
